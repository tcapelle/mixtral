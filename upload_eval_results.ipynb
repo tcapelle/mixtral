{
 "cells": [
  {
   "cell_type": "code",
   "execution_count": 1,
   "metadata": {},
   "outputs": [],
   "source": [
    "from pathlib import Path\n",
    "\n",
    "results_path = Path(\"/home/ubuntu/cape/eval_harness_outputs\")"
   ]
  },
  {
   "cell_type": "code",
   "execution_count": 2,
   "metadata": {},
   "outputs": [],
   "source": [
    "# load json file\n",
    "\n",
    "def load_json(file):\n",
    "    import json\n",
    "    with open(file) as f:\n",
    "        data = json.load(f)\n",
    "    return data"
   ]
  },
  {
   "cell_type": "code",
   "execution_count": 3,
   "metadata": {},
   "outputs": [],
   "source": [
    "tasks = {\"hellaswag\":\"acc_norm,none\",\n",
    "         \"arc_challenge\":\"acc_norm,none\",\n",
    "         \"truthfulqa\":\"acc,none\",\n",
    "         \"mmlu\":\"acc,none\",\n",
    "         \"winogrande\":\"acc,none\",\n",
    "         \"gsm8k\":'exact_match,get-answer'}"
   ]
  },
  {
   "cell_type": "code",
   "execution_count": 4,
   "metadata": {},
   "outputs": [
    {
     "data": {
      "text/plain": [
       "[PosixPath('/home/ubuntu/cape/eval_harness_outputs/checkpoint-woven-pyramid-75:v1.json'),\n",
       " PosixPath('/home/ubuntu/cape/eval_harness_outputs/checkpoint-graceful-frog-87:v1.json'),\n",
       " PosixPath('/home/ubuntu/cape/eval_harness_outputs/checkpoint-zesty-flower-96:v1.json'),\n",
       " PosixPath('/home/ubuntu/cape/eval_harness_outputs/mixtral_baseline.json'),\n",
       " PosixPath('/home/ubuntu/cape/eval_harness_outputs/mixtral_baseline_instruct.json')]"
      ]
     },
     "execution_count": 4,
     "metadata": {},
     "output_type": "execute_result"
    }
   ],
   "source": [
    "files = list(results_path.glob(\"*.json\"))\n",
    "files"
   ]
  },
  {
   "cell_type": "code",
   "execution_count": 5,
   "metadata": {},
   "outputs": [],
   "source": [
    "raw_results = [load_json(res_file) for res_file in files]"
   ]
  },
  {
   "cell_type": "code",
   "execution_count": 6,
   "metadata": {},
   "outputs": [
    {
     "data": {
      "text/plain": [
       "'/home/ubuntu/cape/mixtral/artifacts/checkpoint-woven-pyramid-75:v1/merged/'"
      ]
     },
     "execution_count": 6,
     "metadata": {},
     "output_type": "execute_result"
    }
   ],
   "source": [
    "def get_base_model_name(results):\n",
    "    model_name = results[\"config\"][\"model_args\"].split(\",\")[0].split(\"=\")[1]\n",
    "    return model_name\n",
    "\n",
    "get_base_model_name(raw_results[0])"
   ]
  },
  {
   "cell_type": "code",
   "execution_count": 7,
   "metadata": {},
   "outputs": [
    {
     "name": "stdout",
     "output_type": "stream",
     "text": [
      "--------------------------------------------------\n",
      "file: /home/ubuntu/cape/eval_harness_outputs/checkpoint-woven-pyramid-75:v1.json\n",
      "Results for \"checkpoint-woven-pyramid-75:v1\"\n",
      "--------------------------------------------------\n",
      "hellaswag[acc_norm,none]:  0.838\n",
      "arc_challenge[acc_norm,none]:  0.611\n",
      "truthfulqa[acc,none]:  0.466\n",
      "mmlu[acc,none]:  0.659\n",
      "winogrande[acc,none]:  0.769\n",
      "gsm8k[exact_match,get-answer]:  0.633\n"
     ]
    }
   ],
   "source": [
    "def get_final_results(res_file):\n",
    "\n",
    "    res = load_json(res_file)\n",
    "\n",
    "    # model_name = get_base_model_name(res)\n",
    "    model_name = res_file.name.split(\".\")[0]\n",
    "    print(\"-\"*50+f\"\\nfile: {res_file}\\nResults for \\\"{model_name}\\\"\\n\"+\"-\"*50)\n",
    "\n",
    "    model_results_eval_harness = {}\n",
    "    for task, metric in tasks.items():\n",
    "        model_results_eval_harness[task] = res[\"results\"][task][metric]\n",
    "        print(f\"{task}[{metric}]:  {model_results_eval_harness[task]:.3f}\")\n",
    "    return model_name, model_results_eval_harness\n",
    "\n",
    "model_name, final_res = get_final_results(files[0])"
   ]
  },
  {
   "cell_type": "code",
   "execution_count": 16,
   "metadata": {},
   "outputs": [],
   "source": [
    "rename_map = {\n",
    "    \"checkpoint-graceful-frog-87:v1\": \"proj_r=32_a=16_tok=32002*_seq=8k_lr=0.002\",\n",
    "    \"checkpoint-woven-pyramid-75:v1\": \"proj_r=16_a=32_tok=32000_seq=8k_lr=0.002_v2\",\n",
    "    \"checkpoint-zesty-flower-96:v1\": \"proj_r=16_a=32_tok=32000_seq=8k_lr=0.002\",\n",
    "}\n",
    "\n",
    "def rename_model(model_name):\n",
    "    if model_name in rename_map:\n",
    "        return rename_map[model_name]\n",
    "    else:\n",
    "        return model_name"
   ]
  },
  {
   "cell_type": "code",
   "execution_count": 17,
   "metadata": {},
   "outputs": [
    {
     "name": "stdout",
     "output_type": "stream",
     "text": [
      "--------------------------------------------------\n",
      "file: /home/ubuntu/cape/eval_harness_outputs/checkpoint-woven-pyramid-75:v1.json\n",
      "Results for \"checkpoint-woven-pyramid-75:v1\"\n",
      "--------------------------------------------------\n",
      "hellaswag[acc_norm,none]:  0.838\n",
      "arc_challenge[acc_norm,none]:  0.611\n",
      "truthfulqa[acc,none]:  0.466\n",
      "mmlu[acc,none]:  0.659\n",
      "winogrande[acc,none]:  0.769\n",
      "gsm8k[exact_match,get-answer]:  0.633\n",
      "--------------------------------------------------\n",
      "file: /home/ubuntu/cape/eval_harness_outputs/checkpoint-graceful-frog-87:v1.json\n",
      "Results for \"checkpoint-graceful-frog-87:v1\"\n",
      "--------------------------------------------------\n",
      "hellaswag[acc_norm,none]:  0.780\n",
      "arc_challenge[acc_norm,none]:  0.538\n",
      "truthfulqa[acc,none]:  0.427\n",
      "mmlu[acc,none]:  0.635\n",
      "winogrande[acc,none]:  0.717\n",
      "gsm8k[exact_match,get-answer]:  0.451\n",
      "--------------------------------------------------\n",
      "file: /home/ubuntu/cape/eval_harness_outputs/checkpoint-zesty-flower-96:v1.json\n",
      "Results for \"checkpoint-zesty-flower-96:v1\"\n",
      "--------------------------------------------------\n",
      "hellaswag[acc_norm,none]:  0.836\n",
      "arc_challenge[acc_norm,none]:  0.612\n",
      "truthfulqa[acc,none]:  0.492\n",
      "mmlu[acc,none]:  0.665\n",
      "winogrande[acc,none]:  0.777\n",
      "gsm8k[exact_match,get-answer]:  0.613\n",
      "--------------------------------------------------\n",
      "file: /home/ubuntu/cape/eval_harness_outputs/mixtral_baseline.json\n",
      "Results for \"mixtral_baseline\"\n",
      "--------------------------------------------------\n",
      "hellaswag[acc_norm,none]:  0.834\n",
      "arc_challenge[acc_norm,none]:  0.578\n",
      "truthfulqa[acc,none]:  0.423\n",
      "mmlu[acc,none]:  0.661\n",
      "winogrande[acc,none]:  0.774\n",
      "gsm8k[exact_match,get-answer]:  0.509\n",
      "--------------------------------------------------\n",
      "file: /home/ubuntu/cape/eval_harness_outputs/mixtral_baseline_instruct.json\n",
      "Results for \"mixtral_baseline_instruct\"\n",
      "--------------------------------------------------\n",
      "hellaswag[acc_norm,none]:  0.853\n",
      "arc_challenge[acc_norm,none]:  0.642\n",
      "truthfulqa[acc,none]:  0.591\n",
      "mmlu[acc,none]:  0.679\n",
      "winogrande[acc,none]:  0.769\n",
      "gsm8k[exact_match,get-answer]:  0.618\n"
     ]
    }
   ],
   "source": [
    "import plotly.express as px\n",
    "import pandas as pd\n",
    "\n",
    "results_df = []\n",
    "\n",
    "for res_file in files:\n",
    "    model_name, final_res = get_final_results(res_file)\n",
    "\n",
    "    df = pd.DataFrame(dict(\n",
    "        value=final_res.values(),\n",
    "        metric=final_res.keys(),\n",
    "        model=rename_model(model_name)))\n",
    "    results_df.append(df)\n",
    "\n",
    "results_df = pd.concat(results_df)\n",
    "results_df.to_csv(\"results_eval_harness.csv\", index=False)\n"
   ]
  },
  {
   "cell_type": "code",
   "execution_count": 18,
   "metadata": {},
   "outputs": [
    {
     "data": {
      "application/vnd.plotly.v1+json": {
       "config": {
        "plotlyServerURL": "https://plot.ly"
       },
       "data": [
        {
         "hovertemplate": "model=proj_r=16_a=32_tok=32000_seq=8k_lr=0.002_v2<br>value=%{r}<br>metric=%{theta}<extra></extra>",
         "legendgroup": "proj_r=16_a=32_tok=32000_seq=8k_lr=0.002_v2",
         "line": {
          "color": "#636efa",
          "dash": "solid"
         },
         "marker": {
          "symbol": "circle"
         },
         "mode": "lines",
         "name": "proj_r=16_a=32_tok=32000_seq=8k_lr=0.002_v2",
         "r": [
          0.8381796454889464,
          0.6109215017064846,
          0.4657479913416059,
          0.6592365759863268,
          0.7687450670876085,
          0.6330553449583017,
          0.8381796454889464
         ],
         "showlegend": true,
         "subplot": "polar",
         "theta": [
          "hellaswag",
          "arc_challenge",
          "truthfulqa",
          "mmlu",
          "winogrande",
          "gsm8k",
          "hellaswag"
         ],
         "type": "scatterpolar"
        },
        {
         "hovertemplate": "model=proj_r=32_a=16_tok=32002*_seq=8k_lr=0.002<br>value=%{r}<br>metric=%{theta}<extra></extra>",
         "legendgroup": "proj_r=32_a=16_tok=32002*_seq=8k_lr=0.002",
         "line": {
          "color": "#EF553B",
          "dash": "solid"
         },
         "marker": {
          "symbol": "circle"
         },
         "mode": "lines",
         "name": "proj_r=32_a=16_tok=32002*_seq=8k_lr=0.002",
         "r": [
          0.7802230631348337,
          0.53839590443686,
          0.42675078080696477,
          0.6345249964392536,
          0.7166535122336227,
          0.45109931766489764,
          0.7802230631348337
         ],
         "showlegend": true,
         "subplot": "polar",
         "theta": [
          "hellaswag",
          "arc_challenge",
          "truthfulqa",
          "mmlu",
          "winogrande",
          "gsm8k",
          "hellaswag"
         ],
         "type": "scatterpolar"
        },
        {
         "hovertemplate": "model=proj_r=16_a=32_tok=32000_seq=8k_lr=0.002<br>value=%{r}<br>metric=%{theta}<extra></extra>",
         "legendgroup": "proj_r=16_a=32_tok=32000_seq=8k_lr=0.002",
         "line": {
          "color": "#00cc96",
          "dash": "solid"
         },
         "marker": {
          "symbol": "circle"
         },
         "mode": "lines",
         "name": "proj_r=16_a=32_tok=32000_seq=8k_lr=0.002",
         "r": [
          0.8361880103565027,
          0.6117747440273038,
          0.4917667007503737,
          0.6648625551915681,
          0.77663772691397,
          0.6133434420015162,
          0.8361880103565027
         ],
         "showlegend": true,
         "subplot": "polar",
         "theta": [
          "hellaswag",
          "arc_challenge",
          "truthfulqa",
          "mmlu",
          "winogrande",
          "gsm8k",
          "hellaswag"
         ],
         "type": "scatterpolar"
        },
        {
         "hovertemplate": "model=mixtral_baseline<br>value=%{r}<br>metric=%{theta}<extra></extra>",
         "legendgroup": "mixtral_baseline",
         "line": {
          "color": "#ab63fa",
          "dash": "solid"
         },
         "marker": {
          "symbol": "circle"
         },
         "mode": "lines",
         "name": "mixtral_baseline",
         "r": [
          0.8340967934674368,
          0.5784982935153583,
          0.42345428233262766,
          0.661088164079191,
          0.7742699289660616,
          0.5094768764215315,
          0.8340967934674368
         ],
         "showlegend": true,
         "subplot": "polar",
         "theta": [
          "hellaswag",
          "arc_challenge",
          "truthfulqa",
          "mmlu",
          "winogrande",
          "gsm8k",
          "hellaswag"
         ],
         "type": "scatterpolar"
        },
        {
         "hovertemplate": "model=mixtral_baseline_instruct<br>value=%{r}<br>metric=%{theta}<extra></extra>",
         "legendgroup": "mixtral_baseline_instruct",
         "line": {
          "color": "#FFA15A",
          "dash": "solid"
         },
         "marker": {
          "symbol": "circle"
         },
         "mode": "lines",
         "name": "mixtral_baseline_instruct",
         "r": [
          0.8527185819557856,
          0.6424914675767918,
          0.5910665686243006,
          0.6788918957413473,
          0.7687450670876085,
          0.6178923426838514,
          0.8527185819557856
         ],
         "showlegend": true,
         "subplot": "polar",
         "theta": [
          "hellaswag",
          "arc_challenge",
          "truthfulqa",
          "mmlu",
          "winogrande",
          "gsm8k",
          "hellaswag"
         ],
         "type": "scatterpolar"
        }
       ],
       "layout": {
        "legend": {
         "title": {
          "text": "model"
         },
         "tracegroupgap": 0
        },
        "polar": {
         "angularaxis": {
          "direction": "clockwise",
          "rotation": 90
         },
         "domain": {
          "x": [
           0,
           1
          ],
          "y": [
           0,
           1
          ]
         },
         "radialaxis": {
          "range": [
           0,
           0.9
          ]
         }
        },
        "template": {
         "data": {
          "bar": [
           {
            "error_x": {
             "color": "#2a3f5f"
            },
            "error_y": {
             "color": "#2a3f5f"
            },
            "marker": {
             "line": {
              "color": "#E5ECF6",
              "width": 0.5
             },
             "pattern": {
              "fillmode": "overlay",
              "size": 10,
              "solidity": 0.2
             }
            },
            "type": "bar"
           }
          ],
          "barpolar": [
           {
            "marker": {
             "line": {
              "color": "#E5ECF6",
              "width": 0.5
             },
             "pattern": {
              "fillmode": "overlay",
              "size": 10,
              "solidity": 0.2
             }
            },
            "type": "barpolar"
           }
          ],
          "carpet": [
           {
            "aaxis": {
             "endlinecolor": "#2a3f5f",
             "gridcolor": "white",
             "linecolor": "white",
             "minorgridcolor": "white",
             "startlinecolor": "#2a3f5f"
            },
            "baxis": {
             "endlinecolor": "#2a3f5f",
             "gridcolor": "white",
             "linecolor": "white",
             "minorgridcolor": "white",
             "startlinecolor": "#2a3f5f"
            },
            "type": "carpet"
           }
          ],
          "choropleth": [
           {
            "colorbar": {
             "outlinewidth": 0,
             "ticks": ""
            },
            "type": "choropleth"
           }
          ],
          "contour": [
           {
            "colorbar": {
             "outlinewidth": 0,
             "ticks": ""
            },
            "colorscale": [
             [
              0,
              "#0d0887"
             ],
             [
              0.1111111111111111,
              "#46039f"
             ],
             [
              0.2222222222222222,
              "#7201a8"
             ],
             [
              0.3333333333333333,
              "#9c179e"
             ],
             [
              0.4444444444444444,
              "#bd3786"
             ],
             [
              0.5555555555555556,
              "#d8576b"
             ],
             [
              0.6666666666666666,
              "#ed7953"
             ],
             [
              0.7777777777777778,
              "#fb9f3a"
             ],
             [
              0.8888888888888888,
              "#fdca26"
             ],
             [
              1,
              "#f0f921"
             ]
            ],
            "type": "contour"
           }
          ],
          "contourcarpet": [
           {
            "colorbar": {
             "outlinewidth": 0,
             "ticks": ""
            },
            "type": "contourcarpet"
           }
          ],
          "heatmap": [
           {
            "colorbar": {
             "outlinewidth": 0,
             "ticks": ""
            },
            "colorscale": [
             [
              0,
              "#0d0887"
             ],
             [
              0.1111111111111111,
              "#46039f"
             ],
             [
              0.2222222222222222,
              "#7201a8"
             ],
             [
              0.3333333333333333,
              "#9c179e"
             ],
             [
              0.4444444444444444,
              "#bd3786"
             ],
             [
              0.5555555555555556,
              "#d8576b"
             ],
             [
              0.6666666666666666,
              "#ed7953"
             ],
             [
              0.7777777777777778,
              "#fb9f3a"
             ],
             [
              0.8888888888888888,
              "#fdca26"
             ],
             [
              1,
              "#f0f921"
             ]
            ],
            "type": "heatmap"
           }
          ],
          "heatmapgl": [
           {
            "colorbar": {
             "outlinewidth": 0,
             "ticks": ""
            },
            "colorscale": [
             [
              0,
              "#0d0887"
             ],
             [
              0.1111111111111111,
              "#46039f"
             ],
             [
              0.2222222222222222,
              "#7201a8"
             ],
             [
              0.3333333333333333,
              "#9c179e"
             ],
             [
              0.4444444444444444,
              "#bd3786"
             ],
             [
              0.5555555555555556,
              "#d8576b"
             ],
             [
              0.6666666666666666,
              "#ed7953"
             ],
             [
              0.7777777777777778,
              "#fb9f3a"
             ],
             [
              0.8888888888888888,
              "#fdca26"
             ],
             [
              1,
              "#f0f921"
             ]
            ],
            "type": "heatmapgl"
           }
          ],
          "histogram": [
           {
            "marker": {
             "pattern": {
              "fillmode": "overlay",
              "size": 10,
              "solidity": 0.2
             }
            },
            "type": "histogram"
           }
          ],
          "histogram2d": [
           {
            "colorbar": {
             "outlinewidth": 0,
             "ticks": ""
            },
            "colorscale": [
             [
              0,
              "#0d0887"
             ],
             [
              0.1111111111111111,
              "#46039f"
             ],
             [
              0.2222222222222222,
              "#7201a8"
             ],
             [
              0.3333333333333333,
              "#9c179e"
             ],
             [
              0.4444444444444444,
              "#bd3786"
             ],
             [
              0.5555555555555556,
              "#d8576b"
             ],
             [
              0.6666666666666666,
              "#ed7953"
             ],
             [
              0.7777777777777778,
              "#fb9f3a"
             ],
             [
              0.8888888888888888,
              "#fdca26"
             ],
             [
              1,
              "#f0f921"
             ]
            ],
            "type": "histogram2d"
           }
          ],
          "histogram2dcontour": [
           {
            "colorbar": {
             "outlinewidth": 0,
             "ticks": ""
            },
            "colorscale": [
             [
              0,
              "#0d0887"
             ],
             [
              0.1111111111111111,
              "#46039f"
             ],
             [
              0.2222222222222222,
              "#7201a8"
             ],
             [
              0.3333333333333333,
              "#9c179e"
             ],
             [
              0.4444444444444444,
              "#bd3786"
             ],
             [
              0.5555555555555556,
              "#d8576b"
             ],
             [
              0.6666666666666666,
              "#ed7953"
             ],
             [
              0.7777777777777778,
              "#fb9f3a"
             ],
             [
              0.8888888888888888,
              "#fdca26"
             ],
             [
              1,
              "#f0f921"
             ]
            ],
            "type": "histogram2dcontour"
           }
          ],
          "mesh3d": [
           {
            "colorbar": {
             "outlinewidth": 0,
             "ticks": ""
            },
            "type": "mesh3d"
           }
          ],
          "parcoords": [
           {
            "line": {
             "colorbar": {
              "outlinewidth": 0,
              "ticks": ""
             }
            },
            "type": "parcoords"
           }
          ],
          "pie": [
           {
            "automargin": true,
            "type": "pie"
           }
          ],
          "scatter": [
           {
            "fillpattern": {
             "fillmode": "overlay",
             "size": 10,
             "solidity": 0.2
            },
            "type": "scatter"
           }
          ],
          "scatter3d": [
           {
            "line": {
             "colorbar": {
              "outlinewidth": 0,
              "ticks": ""
             }
            },
            "marker": {
             "colorbar": {
              "outlinewidth": 0,
              "ticks": ""
             }
            },
            "type": "scatter3d"
           }
          ],
          "scattercarpet": [
           {
            "marker": {
             "colorbar": {
              "outlinewidth": 0,
              "ticks": ""
             }
            },
            "type": "scattercarpet"
           }
          ],
          "scattergeo": [
           {
            "marker": {
             "colorbar": {
              "outlinewidth": 0,
              "ticks": ""
             }
            },
            "type": "scattergeo"
           }
          ],
          "scattergl": [
           {
            "marker": {
             "colorbar": {
              "outlinewidth": 0,
              "ticks": ""
             }
            },
            "type": "scattergl"
           }
          ],
          "scattermapbox": [
           {
            "marker": {
             "colorbar": {
              "outlinewidth": 0,
              "ticks": ""
             }
            },
            "type": "scattermapbox"
           }
          ],
          "scatterpolar": [
           {
            "marker": {
             "colorbar": {
              "outlinewidth": 0,
              "ticks": ""
             }
            },
            "type": "scatterpolar"
           }
          ],
          "scatterpolargl": [
           {
            "marker": {
             "colorbar": {
              "outlinewidth": 0,
              "ticks": ""
             }
            },
            "type": "scatterpolargl"
           }
          ],
          "scatterternary": [
           {
            "marker": {
             "colorbar": {
              "outlinewidth": 0,
              "ticks": ""
             }
            },
            "type": "scatterternary"
           }
          ],
          "surface": [
           {
            "colorbar": {
             "outlinewidth": 0,
             "ticks": ""
            },
            "colorscale": [
             [
              0,
              "#0d0887"
             ],
             [
              0.1111111111111111,
              "#46039f"
             ],
             [
              0.2222222222222222,
              "#7201a8"
             ],
             [
              0.3333333333333333,
              "#9c179e"
             ],
             [
              0.4444444444444444,
              "#bd3786"
             ],
             [
              0.5555555555555556,
              "#d8576b"
             ],
             [
              0.6666666666666666,
              "#ed7953"
             ],
             [
              0.7777777777777778,
              "#fb9f3a"
             ],
             [
              0.8888888888888888,
              "#fdca26"
             ],
             [
              1,
              "#f0f921"
             ]
            ],
            "type": "surface"
           }
          ],
          "table": [
           {
            "cells": {
             "fill": {
              "color": "#EBF0F8"
             },
             "line": {
              "color": "white"
             }
            },
            "header": {
             "fill": {
              "color": "#C8D4E3"
             },
             "line": {
              "color": "white"
             }
            },
            "type": "table"
           }
          ]
         },
         "layout": {
          "annotationdefaults": {
           "arrowcolor": "#2a3f5f",
           "arrowhead": 0,
           "arrowwidth": 1
          },
          "autotypenumbers": "strict",
          "coloraxis": {
           "colorbar": {
            "outlinewidth": 0,
            "ticks": ""
           }
          },
          "colorscale": {
           "diverging": [
            [
             0,
             "#8e0152"
            ],
            [
             0.1,
             "#c51b7d"
            ],
            [
             0.2,
             "#de77ae"
            ],
            [
             0.3,
             "#f1b6da"
            ],
            [
             0.4,
             "#fde0ef"
            ],
            [
             0.5,
             "#f7f7f7"
            ],
            [
             0.6,
             "#e6f5d0"
            ],
            [
             0.7,
             "#b8e186"
            ],
            [
             0.8,
             "#7fbc41"
            ],
            [
             0.9,
             "#4d9221"
            ],
            [
             1,
             "#276419"
            ]
           ],
           "sequential": [
            [
             0,
             "#0d0887"
            ],
            [
             0.1111111111111111,
             "#46039f"
            ],
            [
             0.2222222222222222,
             "#7201a8"
            ],
            [
             0.3333333333333333,
             "#9c179e"
            ],
            [
             0.4444444444444444,
             "#bd3786"
            ],
            [
             0.5555555555555556,
             "#d8576b"
            ],
            [
             0.6666666666666666,
             "#ed7953"
            ],
            [
             0.7777777777777778,
             "#fb9f3a"
            ],
            [
             0.8888888888888888,
             "#fdca26"
            ],
            [
             1,
             "#f0f921"
            ]
           ],
           "sequentialminus": [
            [
             0,
             "#0d0887"
            ],
            [
             0.1111111111111111,
             "#46039f"
            ],
            [
             0.2222222222222222,
             "#7201a8"
            ],
            [
             0.3333333333333333,
             "#9c179e"
            ],
            [
             0.4444444444444444,
             "#bd3786"
            ],
            [
             0.5555555555555556,
             "#d8576b"
            ],
            [
             0.6666666666666666,
             "#ed7953"
            ],
            [
             0.7777777777777778,
             "#fb9f3a"
            ],
            [
             0.8888888888888888,
             "#fdca26"
            ],
            [
             1,
             "#f0f921"
            ]
           ]
          },
          "colorway": [
           "#636efa",
           "#EF553B",
           "#00cc96",
           "#ab63fa",
           "#FFA15A",
           "#19d3f3",
           "#FF6692",
           "#B6E880",
           "#FF97FF",
           "#FECB52"
          ],
          "font": {
           "color": "#2a3f5f"
          },
          "geo": {
           "bgcolor": "white",
           "lakecolor": "white",
           "landcolor": "#E5ECF6",
           "showlakes": true,
           "showland": true,
           "subunitcolor": "white"
          },
          "hoverlabel": {
           "align": "left"
          },
          "hovermode": "closest",
          "mapbox": {
           "style": "light"
          },
          "paper_bgcolor": "white",
          "plot_bgcolor": "#E5ECF6",
          "polar": {
           "angularaxis": {
            "gridcolor": "white",
            "linecolor": "white",
            "ticks": ""
           },
           "bgcolor": "#E5ECF6",
           "radialaxis": {
            "gridcolor": "white",
            "linecolor": "white",
            "ticks": ""
           }
          },
          "scene": {
           "xaxis": {
            "backgroundcolor": "#E5ECF6",
            "gridcolor": "white",
            "gridwidth": 2,
            "linecolor": "white",
            "showbackground": true,
            "ticks": "",
            "zerolinecolor": "white"
           },
           "yaxis": {
            "backgroundcolor": "#E5ECF6",
            "gridcolor": "white",
            "gridwidth": 2,
            "linecolor": "white",
            "showbackground": true,
            "ticks": "",
            "zerolinecolor": "white"
           },
           "zaxis": {
            "backgroundcolor": "#E5ECF6",
            "gridcolor": "white",
            "gridwidth": 2,
            "linecolor": "white",
            "showbackground": true,
            "ticks": "",
            "zerolinecolor": "white"
           }
          },
          "shapedefaults": {
           "line": {
            "color": "#2a3f5f"
           }
          },
          "ternary": {
           "aaxis": {
            "gridcolor": "white",
            "linecolor": "white",
            "ticks": ""
           },
           "baxis": {
            "gridcolor": "white",
            "linecolor": "white",
            "ticks": ""
           },
           "bgcolor": "#E5ECF6",
           "caxis": {
            "gridcolor": "white",
            "linecolor": "white",
            "ticks": ""
           }
          },
          "title": {
           "x": 0.05
          },
          "xaxis": {
           "automargin": true,
           "gridcolor": "white",
           "linecolor": "white",
           "ticks": "",
           "title": {
            "standoff": 15
           },
           "zerolinecolor": "white",
           "zerolinewidth": 2
          },
          "yaxis": {
           "automargin": true,
           "gridcolor": "white",
           "linecolor": "white",
           "ticks": "",
           "title": {
            "standoff": 15
           },
           "zerolinecolor": "white",
           "zerolinewidth": 2
          }
         }
        },
        "title": {
         "text": "Fine-tuned model performance on each task"
        }
       }
      },
      "text/html": [
       "<div>                            <div id=\"8640dd26-5c80-471b-a070-f93cb3a2e656\" class=\"plotly-graph-div\" style=\"height:525px; width:100%;\"></div>            <script type=\"text/javascript\">                require([\"plotly\"], function(Plotly) {                    window.PLOTLYENV=window.PLOTLYENV || {};                                    if (document.getElementById(\"8640dd26-5c80-471b-a070-f93cb3a2e656\")) {                    Plotly.newPlot(                        \"8640dd26-5c80-471b-a070-f93cb3a2e656\",                        [{\"hovertemplate\":\"model=proj_r=16_a=32_tok=32000_seq=8k_lr=0.002_v2\\u003cbr\\u003evalue=%{r}\\u003cbr\\u003emetric=%{theta}\\u003cextra\\u003e\\u003c\\u002fextra\\u003e\",\"legendgroup\":\"proj_r=16_a=32_tok=32000_seq=8k_lr=0.002_v2\",\"line\":{\"color\":\"#636efa\",\"dash\":\"solid\"},\"marker\":{\"symbol\":\"circle\"},\"mode\":\"lines\",\"name\":\"proj_r=16_a=32_tok=32000_seq=8k_lr=0.002_v2\",\"r\":[0.8381796454889464,0.6109215017064846,0.4657479913416059,0.6592365759863268,0.7687450670876085,0.6330553449583017,0.8381796454889464],\"showlegend\":true,\"subplot\":\"polar\",\"theta\":[\"hellaswag\",\"arc_challenge\",\"truthfulqa\",\"mmlu\",\"winogrande\",\"gsm8k\",\"hellaswag\"],\"type\":\"scatterpolar\"},{\"hovertemplate\":\"model=proj_r=32_a=16_tok=32002*_seq=8k_lr=0.002\\u003cbr\\u003evalue=%{r}\\u003cbr\\u003emetric=%{theta}\\u003cextra\\u003e\\u003c\\u002fextra\\u003e\",\"legendgroup\":\"proj_r=32_a=16_tok=32002*_seq=8k_lr=0.002\",\"line\":{\"color\":\"#EF553B\",\"dash\":\"solid\"},\"marker\":{\"symbol\":\"circle\"},\"mode\":\"lines\",\"name\":\"proj_r=32_a=16_tok=32002*_seq=8k_lr=0.002\",\"r\":[0.7802230631348337,0.53839590443686,0.42675078080696477,0.6345249964392536,0.7166535122336227,0.45109931766489764,0.7802230631348337],\"showlegend\":true,\"subplot\":\"polar\",\"theta\":[\"hellaswag\",\"arc_challenge\",\"truthfulqa\",\"mmlu\",\"winogrande\",\"gsm8k\",\"hellaswag\"],\"type\":\"scatterpolar\"},{\"hovertemplate\":\"model=proj_r=16_a=32_tok=32000_seq=8k_lr=0.002\\u003cbr\\u003evalue=%{r}\\u003cbr\\u003emetric=%{theta}\\u003cextra\\u003e\\u003c\\u002fextra\\u003e\",\"legendgroup\":\"proj_r=16_a=32_tok=32000_seq=8k_lr=0.002\",\"line\":{\"color\":\"#00cc96\",\"dash\":\"solid\"},\"marker\":{\"symbol\":\"circle\"},\"mode\":\"lines\",\"name\":\"proj_r=16_a=32_tok=32000_seq=8k_lr=0.002\",\"r\":[0.8361880103565027,0.6117747440273038,0.4917667007503737,0.6648625551915681,0.77663772691397,0.6133434420015162,0.8361880103565027],\"showlegend\":true,\"subplot\":\"polar\",\"theta\":[\"hellaswag\",\"arc_challenge\",\"truthfulqa\",\"mmlu\",\"winogrande\",\"gsm8k\",\"hellaswag\"],\"type\":\"scatterpolar\"},{\"hovertemplate\":\"model=mixtral_baseline\\u003cbr\\u003evalue=%{r}\\u003cbr\\u003emetric=%{theta}\\u003cextra\\u003e\\u003c\\u002fextra\\u003e\",\"legendgroup\":\"mixtral_baseline\",\"line\":{\"color\":\"#ab63fa\",\"dash\":\"solid\"},\"marker\":{\"symbol\":\"circle\"},\"mode\":\"lines\",\"name\":\"mixtral_baseline\",\"r\":[0.8340967934674368,0.5784982935153583,0.42345428233262766,0.661088164079191,0.7742699289660616,0.5094768764215315,0.8340967934674368],\"showlegend\":true,\"subplot\":\"polar\",\"theta\":[\"hellaswag\",\"arc_challenge\",\"truthfulqa\",\"mmlu\",\"winogrande\",\"gsm8k\",\"hellaswag\"],\"type\":\"scatterpolar\"},{\"hovertemplate\":\"model=mixtral_baseline_instruct\\u003cbr\\u003evalue=%{r}\\u003cbr\\u003emetric=%{theta}\\u003cextra\\u003e\\u003c\\u002fextra\\u003e\",\"legendgroup\":\"mixtral_baseline_instruct\",\"line\":{\"color\":\"#FFA15A\",\"dash\":\"solid\"},\"marker\":{\"symbol\":\"circle\"},\"mode\":\"lines\",\"name\":\"mixtral_baseline_instruct\",\"r\":[0.8527185819557856,0.6424914675767918,0.5910665686243006,0.6788918957413473,0.7687450670876085,0.6178923426838514,0.8527185819557856],\"showlegend\":true,\"subplot\":\"polar\",\"theta\":[\"hellaswag\",\"arc_challenge\",\"truthfulqa\",\"mmlu\",\"winogrande\",\"gsm8k\",\"hellaswag\"],\"type\":\"scatterpolar\"}],                        {\"template\":{\"data\":{\"histogram2dcontour\":[{\"type\":\"histogram2dcontour\",\"colorbar\":{\"outlinewidth\":0,\"ticks\":\"\"},\"colorscale\":[[0.0,\"#0d0887\"],[0.1111111111111111,\"#46039f\"],[0.2222222222222222,\"#7201a8\"],[0.3333333333333333,\"#9c179e\"],[0.4444444444444444,\"#bd3786\"],[0.5555555555555556,\"#d8576b\"],[0.6666666666666666,\"#ed7953\"],[0.7777777777777778,\"#fb9f3a\"],[0.8888888888888888,\"#fdca26\"],[1.0,\"#f0f921\"]]}],\"choropleth\":[{\"type\":\"choropleth\",\"colorbar\":{\"outlinewidth\":0,\"ticks\":\"\"}}],\"histogram2d\":[{\"type\":\"histogram2d\",\"colorbar\":{\"outlinewidth\":0,\"ticks\":\"\"},\"colorscale\":[[0.0,\"#0d0887\"],[0.1111111111111111,\"#46039f\"],[0.2222222222222222,\"#7201a8\"],[0.3333333333333333,\"#9c179e\"],[0.4444444444444444,\"#bd3786\"],[0.5555555555555556,\"#d8576b\"],[0.6666666666666666,\"#ed7953\"],[0.7777777777777778,\"#fb9f3a\"],[0.8888888888888888,\"#fdca26\"],[1.0,\"#f0f921\"]]}],\"heatmap\":[{\"type\":\"heatmap\",\"colorbar\":{\"outlinewidth\":0,\"ticks\":\"\"},\"colorscale\":[[0.0,\"#0d0887\"],[0.1111111111111111,\"#46039f\"],[0.2222222222222222,\"#7201a8\"],[0.3333333333333333,\"#9c179e\"],[0.4444444444444444,\"#bd3786\"],[0.5555555555555556,\"#d8576b\"],[0.6666666666666666,\"#ed7953\"],[0.7777777777777778,\"#fb9f3a\"],[0.8888888888888888,\"#fdca26\"],[1.0,\"#f0f921\"]]}],\"heatmapgl\":[{\"type\":\"heatmapgl\",\"colorbar\":{\"outlinewidth\":0,\"ticks\":\"\"},\"colorscale\":[[0.0,\"#0d0887\"],[0.1111111111111111,\"#46039f\"],[0.2222222222222222,\"#7201a8\"],[0.3333333333333333,\"#9c179e\"],[0.4444444444444444,\"#bd3786\"],[0.5555555555555556,\"#d8576b\"],[0.6666666666666666,\"#ed7953\"],[0.7777777777777778,\"#fb9f3a\"],[0.8888888888888888,\"#fdca26\"],[1.0,\"#f0f921\"]]}],\"contourcarpet\":[{\"type\":\"contourcarpet\",\"colorbar\":{\"outlinewidth\":0,\"ticks\":\"\"}}],\"contour\":[{\"type\":\"contour\",\"colorbar\":{\"outlinewidth\":0,\"ticks\":\"\"},\"colorscale\":[[0.0,\"#0d0887\"],[0.1111111111111111,\"#46039f\"],[0.2222222222222222,\"#7201a8\"],[0.3333333333333333,\"#9c179e\"],[0.4444444444444444,\"#bd3786\"],[0.5555555555555556,\"#d8576b\"],[0.6666666666666666,\"#ed7953\"],[0.7777777777777778,\"#fb9f3a\"],[0.8888888888888888,\"#fdca26\"],[1.0,\"#f0f921\"]]}],\"surface\":[{\"type\":\"surface\",\"colorbar\":{\"outlinewidth\":0,\"ticks\":\"\"},\"colorscale\":[[0.0,\"#0d0887\"],[0.1111111111111111,\"#46039f\"],[0.2222222222222222,\"#7201a8\"],[0.3333333333333333,\"#9c179e\"],[0.4444444444444444,\"#bd3786\"],[0.5555555555555556,\"#d8576b\"],[0.6666666666666666,\"#ed7953\"],[0.7777777777777778,\"#fb9f3a\"],[0.8888888888888888,\"#fdca26\"],[1.0,\"#f0f921\"]]}],\"mesh3d\":[{\"type\":\"mesh3d\",\"colorbar\":{\"outlinewidth\":0,\"ticks\":\"\"}}],\"scatter\":[{\"fillpattern\":{\"fillmode\":\"overlay\",\"size\":10,\"solidity\":0.2},\"type\":\"scatter\"}],\"parcoords\":[{\"type\":\"parcoords\",\"line\":{\"colorbar\":{\"outlinewidth\":0,\"ticks\":\"\"}}}],\"scatterpolargl\":[{\"type\":\"scatterpolargl\",\"marker\":{\"colorbar\":{\"outlinewidth\":0,\"ticks\":\"\"}}}],\"bar\":[{\"error_x\":{\"color\":\"#2a3f5f\"},\"error_y\":{\"color\":\"#2a3f5f\"},\"marker\":{\"line\":{\"color\":\"#E5ECF6\",\"width\":0.5},\"pattern\":{\"fillmode\":\"overlay\",\"size\":10,\"solidity\":0.2}},\"type\":\"bar\"}],\"scattergeo\":[{\"type\":\"scattergeo\",\"marker\":{\"colorbar\":{\"outlinewidth\":0,\"ticks\":\"\"}}}],\"scatterpolar\":[{\"type\":\"scatterpolar\",\"marker\":{\"colorbar\":{\"outlinewidth\":0,\"ticks\":\"\"}}}],\"histogram\":[{\"marker\":{\"pattern\":{\"fillmode\":\"overlay\",\"size\":10,\"solidity\":0.2}},\"type\":\"histogram\"}],\"scattergl\":[{\"type\":\"scattergl\",\"marker\":{\"colorbar\":{\"outlinewidth\":0,\"ticks\":\"\"}}}],\"scatter3d\":[{\"type\":\"scatter3d\",\"line\":{\"colorbar\":{\"outlinewidth\":0,\"ticks\":\"\"}},\"marker\":{\"colorbar\":{\"outlinewidth\":0,\"ticks\":\"\"}}}],\"scattermapbox\":[{\"type\":\"scattermapbox\",\"marker\":{\"colorbar\":{\"outlinewidth\":0,\"ticks\":\"\"}}}],\"scatterternary\":[{\"type\":\"scatterternary\",\"marker\":{\"colorbar\":{\"outlinewidth\":0,\"ticks\":\"\"}}}],\"scattercarpet\":[{\"type\":\"scattercarpet\",\"marker\":{\"colorbar\":{\"outlinewidth\":0,\"ticks\":\"\"}}}],\"carpet\":[{\"aaxis\":{\"endlinecolor\":\"#2a3f5f\",\"gridcolor\":\"white\",\"linecolor\":\"white\",\"minorgridcolor\":\"white\",\"startlinecolor\":\"#2a3f5f\"},\"baxis\":{\"endlinecolor\":\"#2a3f5f\",\"gridcolor\":\"white\",\"linecolor\":\"white\",\"minorgridcolor\":\"white\",\"startlinecolor\":\"#2a3f5f\"},\"type\":\"carpet\"}],\"table\":[{\"cells\":{\"fill\":{\"color\":\"#EBF0F8\"},\"line\":{\"color\":\"white\"}},\"header\":{\"fill\":{\"color\":\"#C8D4E3\"},\"line\":{\"color\":\"white\"}},\"type\":\"table\"}],\"barpolar\":[{\"marker\":{\"line\":{\"color\":\"#E5ECF6\",\"width\":0.5},\"pattern\":{\"fillmode\":\"overlay\",\"size\":10,\"solidity\":0.2}},\"type\":\"barpolar\"}],\"pie\":[{\"automargin\":true,\"type\":\"pie\"}]},\"layout\":{\"autotypenumbers\":\"strict\",\"colorway\":[\"#636efa\",\"#EF553B\",\"#00cc96\",\"#ab63fa\",\"#FFA15A\",\"#19d3f3\",\"#FF6692\",\"#B6E880\",\"#FF97FF\",\"#FECB52\"],\"font\":{\"color\":\"#2a3f5f\"},\"hovermode\":\"closest\",\"hoverlabel\":{\"align\":\"left\"},\"paper_bgcolor\":\"white\",\"plot_bgcolor\":\"#E5ECF6\",\"polar\":{\"bgcolor\":\"#E5ECF6\",\"angularaxis\":{\"gridcolor\":\"white\",\"linecolor\":\"white\",\"ticks\":\"\"},\"radialaxis\":{\"gridcolor\":\"white\",\"linecolor\":\"white\",\"ticks\":\"\"}},\"ternary\":{\"bgcolor\":\"#E5ECF6\",\"aaxis\":{\"gridcolor\":\"white\",\"linecolor\":\"white\",\"ticks\":\"\"},\"baxis\":{\"gridcolor\":\"white\",\"linecolor\":\"white\",\"ticks\":\"\"},\"caxis\":{\"gridcolor\":\"white\",\"linecolor\":\"white\",\"ticks\":\"\"}},\"coloraxis\":{\"colorbar\":{\"outlinewidth\":0,\"ticks\":\"\"}},\"colorscale\":{\"sequential\":[[0.0,\"#0d0887\"],[0.1111111111111111,\"#46039f\"],[0.2222222222222222,\"#7201a8\"],[0.3333333333333333,\"#9c179e\"],[0.4444444444444444,\"#bd3786\"],[0.5555555555555556,\"#d8576b\"],[0.6666666666666666,\"#ed7953\"],[0.7777777777777778,\"#fb9f3a\"],[0.8888888888888888,\"#fdca26\"],[1.0,\"#f0f921\"]],\"sequentialminus\":[[0.0,\"#0d0887\"],[0.1111111111111111,\"#46039f\"],[0.2222222222222222,\"#7201a8\"],[0.3333333333333333,\"#9c179e\"],[0.4444444444444444,\"#bd3786\"],[0.5555555555555556,\"#d8576b\"],[0.6666666666666666,\"#ed7953\"],[0.7777777777777778,\"#fb9f3a\"],[0.8888888888888888,\"#fdca26\"],[1.0,\"#f0f921\"]],\"diverging\":[[0,\"#8e0152\"],[0.1,\"#c51b7d\"],[0.2,\"#de77ae\"],[0.3,\"#f1b6da\"],[0.4,\"#fde0ef\"],[0.5,\"#f7f7f7\"],[0.6,\"#e6f5d0\"],[0.7,\"#b8e186\"],[0.8,\"#7fbc41\"],[0.9,\"#4d9221\"],[1,\"#276419\"]]},\"xaxis\":{\"gridcolor\":\"white\",\"linecolor\":\"white\",\"ticks\":\"\",\"title\":{\"standoff\":15},\"zerolinecolor\":\"white\",\"automargin\":true,\"zerolinewidth\":2},\"yaxis\":{\"gridcolor\":\"white\",\"linecolor\":\"white\",\"ticks\":\"\",\"title\":{\"standoff\":15},\"zerolinecolor\":\"white\",\"automargin\":true,\"zerolinewidth\":2},\"scene\":{\"xaxis\":{\"backgroundcolor\":\"#E5ECF6\",\"gridcolor\":\"white\",\"linecolor\":\"white\",\"showbackground\":true,\"ticks\":\"\",\"zerolinecolor\":\"white\",\"gridwidth\":2},\"yaxis\":{\"backgroundcolor\":\"#E5ECF6\",\"gridcolor\":\"white\",\"linecolor\":\"white\",\"showbackground\":true,\"ticks\":\"\",\"zerolinecolor\":\"white\",\"gridwidth\":2},\"zaxis\":{\"backgroundcolor\":\"#E5ECF6\",\"gridcolor\":\"white\",\"linecolor\":\"white\",\"showbackground\":true,\"ticks\":\"\",\"zerolinecolor\":\"white\",\"gridwidth\":2}},\"shapedefaults\":{\"line\":{\"color\":\"#2a3f5f\"}},\"annotationdefaults\":{\"arrowcolor\":\"#2a3f5f\",\"arrowhead\":0,\"arrowwidth\":1},\"geo\":{\"bgcolor\":\"white\",\"landcolor\":\"#E5ECF6\",\"subunitcolor\":\"white\",\"showland\":true,\"showlakes\":true,\"lakecolor\":\"white\"},\"title\":{\"x\":0.05},\"mapbox\":{\"style\":\"light\"}}},\"polar\":{\"domain\":{\"x\":[0.0,1.0],\"y\":[0.0,1.0]},\"angularaxis\":{\"direction\":\"clockwise\",\"rotation\":90},\"radialaxis\":{\"range\":[0,0.9]}},\"legend\":{\"title\":{\"text\":\"model\"},\"tracegroupgap\":0},\"title\":{\"text\":\"Fine-tuned model performance on each task\"}},                        {\"responsive\": true}                    ).then(function(){\n",
       "                            \n",
       "var gd = document.getElementById('8640dd26-5c80-471b-a070-f93cb3a2e656');\n",
       "var x = new MutationObserver(function (mutations, observer) {{\n",
       "        var display = window.getComputedStyle(gd).display;\n",
       "        if (!display || display === 'none') {{\n",
       "            console.log([gd, 'removed!']);\n",
       "            Plotly.purge(gd);\n",
       "            observer.disconnect();\n",
       "        }}\n",
       "}});\n",
       "\n",
       "// Listen for the removal of the full notebook cells\n",
       "var notebookContainer = gd.closest('#notebook-container');\n",
       "if (notebookContainer) {{\n",
       "    x.observe(notebookContainer, {childList: true});\n",
       "}}\n",
       "\n",
       "// Listen for the clearing of the current output cell\n",
       "var outputEl = gd.closest('.output');\n",
       "if (outputEl) {{\n",
       "    x.observe(outputEl, {childList: true});\n",
       "}}\n",
       "\n",
       "                        })                };                });            </script>        </div>"
      ]
     },
     "metadata": {},
     "output_type": "display_data"
    }
   ],
   "source": [
    "\n",
    "fig = px.line_polar(results_df, \n",
    "                    r='value',\n",
    "                    range_r=[0,.9],\n",
    "                    theta='metric', \n",
    "                    color='model',\n",
    "                    line_close=True, \n",
    "                    title=\"Fine-tuned model performance on each task\")\n",
    "## add title to series\n",
    "# fig.update_traces(fill='toself')\n",
    "fig.show()"
   ]
  },
  {
   "cell_type": "code",
   "execution_count": 10,
   "metadata": {},
   "outputs": [
    {
     "name": "stderr",
     "output_type": "stream",
     "text": [
      "Failed to detect the name of this notebook, you can set it manually with the WANDB_NOTEBOOK_NAME environment variable to enable code saving.\n"
     ]
    },
    {
     "name": "stderr",
     "output_type": "stream",
     "text": [
      "\u001b[34m\u001b[1mwandb\u001b[0m: Currently logged in as: \u001b[33mcapecape\u001b[0m (\u001b[33mreviewco\u001b[0m). Use \u001b[1m`wandb login --relogin`\u001b[0m to force relogin\n"
     ]
    },
    {
     "data": {
      "text/html": [
       "wandb version 0.16.2 is available!  To upgrade, please run:\n",
       " $ pip install wandb --upgrade"
      ],
      "text/plain": [
       "<IPython.core.display.HTML object>"
      ]
     },
     "metadata": {},
     "output_type": "display_data"
    },
    {
     "data": {
      "text/html": [
       "Tracking run with wandb version 0.16.1"
      ],
      "text/plain": [
       "<IPython.core.display.HTML object>"
      ]
     },
     "metadata": {},
     "output_type": "display_data"
    },
    {
     "data": {
      "text/html": [
       "Run data is saved locally in <code>/home/ubuntu/cape/mixtral/wandb/run-20240123_085641-aq50mgp4</code>"
      ],
      "text/plain": [
       "<IPython.core.display.HTML object>"
      ]
     },
     "metadata": {},
     "output_type": "display_data"
    },
    {
     "data": {
      "text/html": [
       "Syncing run <strong><a href='https://wandb.ai/reviewco/mixtral/runs/aq50mgp4' target=\"_blank\">vocal-puddle-121</a></strong> to <a href='https://wandb.ai/reviewco/mixtral' target=\"_blank\">Weights & Biases</a> (<a href='https://wandb.me/run' target=\"_blank\">docs</a>)<br/>"
      ],
      "text/plain": [
       "<IPython.core.display.HTML object>"
      ]
     },
     "metadata": {},
     "output_type": "display_data"
    },
    {
     "data": {
      "text/html": [
       " View project at <a href='https://wandb.ai/reviewco/mixtral' target=\"_blank\">https://wandb.ai/reviewco/mixtral</a>"
      ],
      "text/plain": [
       "<IPython.core.display.HTML object>"
      ]
     },
     "metadata": {},
     "output_type": "display_data"
    },
    {
     "data": {
      "text/html": [
       " View run at <a href='https://wandb.ai/reviewco/mixtral/runs/aq50mgp4' target=\"_blank\">https://wandb.ai/reviewco/mixtral/runs/aq50mgp4</a>"
      ],
      "text/plain": [
       "<IPython.core.display.HTML object>"
      ]
     },
     "metadata": {},
     "output_type": "display_data"
    },
    {
     "name": "stderr",
     "output_type": "stream",
     "text": [
      "wandb: WARNING Source type is set to 'repo' but some required information is missing from the environment. A job will not be created from this run. See https://docs.wandb.ai/guides/launch/create-job\n"
     ]
    },
    {
     "data": {
      "application/vnd.jupyter.widget-view+json": {
       "model_id": "9fcd8cab8497411cb86a42cb405055b1",
       "version_major": 2,
       "version_minor": 0
      },
      "text/plain": [
       "VBox(children=(Label(value='0.011 MB of 0.021 MB uploaded\\r'), FloatProgress(value=0.5175184110689578, max=1.0…"
      ]
     },
     "metadata": {},
     "output_type": "display_data"
    },
    {
     "data": {
      "text/html": [
       " View run <strong style=\"color:#cdcd00\">vocal-puddle-121</strong> at: <a href='https://wandb.ai/reviewco/mixtral/runs/aq50mgp4' target=\"_blank\">https://wandb.ai/reviewco/mixtral/runs/aq50mgp4</a><br/>Synced 6 W&B file(s), 1 media file(s), 1 artifact file(s) and 1 other file(s)"
      ],
      "text/plain": [
       "<IPython.core.display.HTML object>"
      ]
     },
     "metadata": {},
     "output_type": "display_data"
    },
    {
     "data": {
      "text/html": [
       "Find logs at: <code>./wandb/run-20240123_085641-aq50mgp4/logs</code>"
      ],
      "text/plain": [
       "<IPython.core.display.HTML object>"
      ]
     },
     "metadata": {},
     "output_type": "display_data"
    }
   ],
   "source": [
    "import wandb\n",
    "\n",
    "WANDB_PROJECT = \"mixtral\"\n",
    "WANDB_ENTITY = \"reviewco\"\n",
    "\n",
    "with wandb.init(project=WANDB_PROJECT, entity=WANDB_ENTITY, job_type=\"eval_harness\"):\n",
    "    at = wandb.Artifact(\"eval_harness\", type=\"eval_harness\")\n",
    "    at.add_file(\"results_eval_harness.csv\")\n",
    "    wandb.log_artifact(at)\n",
    "\n",
    "    plotly_fig = wandb.Plotly(fig)\n",
    "    wandb.log({\"eval_harness\":plotly_fig})"
   ]
  }
 ],
 "metadata": {
  "kernelspec": {
   "display_name": "pt",
   "language": "python",
   "name": "python3"
  },
  "language_info": {
   "codemirror_mode": {
    "name": "ipython",
    "version": 3
   },
   "file_extension": ".py",
   "mimetype": "text/x-python",
   "name": "python",
   "nbconvert_exporter": "python",
   "pygments_lexer": "ipython3",
   "version": "3.10.13"
  }
 },
 "nbformat": 4,
 "nbformat_minor": 2
}
